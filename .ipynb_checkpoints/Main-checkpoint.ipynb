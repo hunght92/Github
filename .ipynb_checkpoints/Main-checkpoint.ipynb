{
 "cells": [
  {
   "cell_type": "code",
   "execution_count": 1,
   "id": "c3e8688c",
   "metadata": {},
   "outputs": [
    {
     "name": "stdout",
     "output_type": "stream",
     "text": [
      "Huỳnh Tấn Hùng\n"
     ]
    }
   ],
   "source": [
    "print (\"Huỳnh Tấn Hùng\")"
   ]
  },
  {
   "cell_type": "code",
   "execution_count": 2,
   "id": "f027abc5",
   "metadata": {},
   "outputs": [
    {
     "name": "stdout",
     "output_type": "stream",
     "text": [
      "Làm tiếp\n"
     ]
    }
   ],
   "source": [
    "print (\"Làm tiếp\")"
   ]
  },
  {
   "cell_type": "code",
   "execution_count": 3,
   "id": "b4a3e912",
   "metadata": {},
   "outputs": [
    {
     "name": "stdout",
     "output_type": "stream",
     "text": [
      "Bước 3\n"
     ]
    }
   ],
   "source": [
    "print (\"Bước 3\")"
   ]
  },
  {
   "cell_type": "code",
   "execution_count": null,
   "id": "d848ea41",
   "metadata": {},
   "outputs": [],
   "source": []
  }
 ],
 "metadata": {
  "kernelspec": {
   "display_name": "Python 3 (ipykernel)",
   "language": "python",
   "name": "python3"
  },
  "language_info": {
   "codemirror_mode": {
    "name": "ipython",
    "version": 3
   },
   "file_extension": ".py",
   "mimetype": "text/x-python",
   "name": "python",
   "nbconvert_exporter": "python",
   "pygments_lexer": "ipython3",
   "version": "3.10.4"
  }
 },
 "nbformat": 4,
 "nbformat_minor": 5
}
